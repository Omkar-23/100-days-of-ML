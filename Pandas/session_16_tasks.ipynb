{
  "nbformat": 4,
  "nbformat_minor": 0,
  "metadata": {
    "colab": {
      "provenance": []
    },
    "kernelspec": {
      "name": "python3",
      "display_name": "Python 3"
    },
    "language_info": {
      "name": "python"
    }
  },
  "cells": [
    {
      "cell_type": "code",
      "execution_count": 2,
      "metadata": {
        "id": "zxrbXftDYalU"
      },
      "outputs": [],
      "source": [
        "import pandas as pd\n",
        "import numpy as np"
      ]
    },
    {
      "cell_type": "markdown",
      "source": [
        "###`Q-1:` Write a program to create an empty series."
      ],
      "metadata": {
        "id": "MetYTZJpYfdz"
      }
    },
    {
      "cell_type": "code",
      "source": [
        "l =pd.Series(np.nan)"
      ],
      "metadata": {
        "id": "KUcgT935YgC5"
      },
      "execution_count": 3,
      "outputs": []
    },
    {
      "cell_type": "markdown",
      "source": [
        "###`Q-2:` Write a Pandas program to add, subtract, multiple and divide two Pandas Series."
      ],
      "metadata": {
        "id": "jw5ybzU6YhOo"
      }
    },
    {
      "cell_type": "code",
      "source": [
        "l1 = pd.Series([2, 4, 6, 8, 10])\n",
        "l2 = pd.Series([1, 3, 5, 7, 10])\n",
        "\n",
        "l1+l2\n",
        "l1-l2\n",
        "l1*l2\n",
        "l1//l2"
      ],
      "metadata": {
        "id": "Q_tke123daVj",
        "outputId": "dfee4106-7f84-4ef2-a681-a98b71e3919b",
        "colab": {
          "base_uri": "https://localhost:8080/"
        }
      },
      "execution_count": 4,
      "outputs": [
        {
          "output_type": "execute_result",
          "data": {
            "text/plain": [
              "0    2\n",
              "1    1\n",
              "2    1\n",
              "3    1\n",
              "4    1\n",
              "dtype: int64"
            ]
          },
          "metadata": {},
          "execution_count": 4
        }
      ]
    },
    {
      "cell_type": "markdown",
      "source": [
        "###`Q-3` Write a Pandas program to compare the elements of the two Pandas Series.\n",
        "Sample Series: [2, 4, 6, 8, 10], [1, 3, 5, 7, 10]\n",
        "\n"
      ],
      "metadata": {
        "id": "TZDp25jeYlB6"
      }
    },
    {
      "cell_type": "code",
      "source": [
        "l1 = pd.Series([2, 4, 6, 8, 10])\n",
        "l2 = pd.Series([1, 3, 5, 7, 10])\n",
        "l1>l2"
      ],
      "metadata": {
        "id": "gFNil8ruYp1y",
        "outputId": "d956cbd5-c620-46a4-d4ad-dec2ab547c65",
        "colab": {
          "base_uri": "https://localhost:8080/"
        }
      },
      "execution_count": 5,
      "outputs": [
        {
          "output_type": "execute_result",
          "data": {
            "text/plain": [
              "0     True\n",
              "1     True\n",
              "2     True\n",
              "3     True\n",
              "4    False\n",
              "dtype: bool"
            ]
          },
          "metadata": {},
          "execution_count": 5
        }
      ]
    },
    {
      "cell_type": "markdown",
      "source": [
        "###`Q-5.`Write a function to change the data type of given a column or a Series. Function takes series and data type as input, returns the converted series.\n",
        "```\n",
        "series = pd.Series([1,2,'Python', 2.0, True, 100])\n",
        "change to float type data\n",
        "```\n",
        "Note: Read about pd.to_numeric()"
      ],
      "metadata": {
        "id": "HlOBn_N6YrZz"
      }
    },
    {
      "cell_type": "code",
      "source": [
        "series = pd.Series([1,2,'Python', 2.0, True, 100])\n",
        "pd.to_numeric(series,errors = 'coerce')"
      ],
      "metadata": {
        "id": "_SWQJCUJYwXm",
        "outputId": "d16c1008-8c5d-4c96-fc61-8ac490ebe9a4",
        "colab": {
          "base_uri": "https://localhost:8080/"
        }
      },
      "execution_count": 6,
      "outputs": [
        {
          "output_type": "execute_result",
          "data": {
            "text/plain": [
              "0      1.0\n",
              "1      2.0\n",
              "2      NaN\n",
              "3      2.0\n",
              "4      1.0\n",
              "5    100.0\n",
              "dtype: float64"
            ]
          },
          "metadata": {},
          "execution_count": 6
        }
      ]
    },
    {
      "cell_type": "markdown",
      "source": [
        "Download data - https://drive.google.com/file/d/1LRhXwbEodeWXtzPhJCX0X9Lf_BECzvqb/view?usp=share_link\n",
        "All Batsman runs series in IPL 2008 to 2022.\n",
        "\n",
        "Below questions are based on this data."
      ],
      "metadata": {
        "id": "PGp3OqRIY0Va"
      }
    },
    {
      "cell_type": "markdown",
      "source": [
        "###`Q-6` Find top 10 most run getter from the series."
      ],
      "metadata": {
        "id": "TxFkp-L4Y23d"
      }
    },
    {
      "cell_type": "code",
      "source": [
        "sr = pd.read_csv('/content/batsman_runs_series.csv').squeeze()"
      ],
      "metadata": {
        "id": "muBgocA6Y2Bg"
      },
      "execution_count": 8,
      "outputs": []
    },
    {
      "cell_type": "code",
      "source": [
        "sr.head()\n",
        "sr.batsman_run.nlargest(10)"
      ],
      "metadata": {
        "id": "0nT9UuEjgmt9",
        "outputId": "b70794c5-f13d-4721-a1bc-167efe99e53b",
        "colab": {
          "base_uri": "https://localhost:8080/"
        }
      },
      "execution_count": 9,
      "outputs": [
        {
          "output_type": "execute_result",
          "data": {
            "text/plain": [
              "569    6634\n",
              "462    6244\n",
              "130    5883\n",
              "430    5881\n",
              "493    5536\n",
              "27     5181\n",
              "108    4997\n",
              "339    4978\n",
              "452    4954\n",
              "256    4377\n",
              "Name: batsman_run, dtype: int64"
            ]
          },
          "metadata": {},
          "execution_count": 9
        }
      ]
    },
    {
      "cell_type": "markdown",
      "source": [
        "###`Q-7` No of players having runs above 3000"
      ],
      "metadata": {
        "id": "GzlCFBM_Y83g"
      }
    },
    {
      "cell_type": "code",
      "source": [
        "sr.batsman_run[sr.batsman_run<3000].value_counts()"
      ],
      "metadata": {
        "id": "JdNchHRWY1B-",
        "outputId": "5c0c9498-d2c2-47fc-c242-5e85944b9663",
        "colab": {
          "base_uri": "https://localhost:8080/"
        }
      },
      "execution_count": 10,
      "outputs": [
        {
          "output_type": "execute_result",
          "data": {
            "text/plain": [
              "0       23\n",
              "2       16\n",
              "4       13\n",
              "1       13\n",
              "3       12\n",
              "        ..\n",
              "2029     1\n",
              "417      1\n",
              "218      1\n",
              "65       1\n",
              "2754     1\n",
              "Name: batsman_run, Length: 297, dtype: int64"
            ]
          },
          "metadata": {},
          "execution_count": 10
        }
      ]
    },
    {
      "cell_type": "markdown",
      "source": [
        "###`Q-8` No of players having runs above mean value?"
      ],
      "metadata": {
        "id": "pMBEoCL1Y-vh"
      }
    },
    {
      "cell_type": "code",
      "source": [
        "\n",
        "sr.batsman_run[sr.batsman_run< np.mean(sr.batsman_run)].value_counts()"
      ],
      "metadata": {
        "id": "LgtViVFZZBIu",
        "outputId": "75c878eb-610f-4655-af03-0d407f252ce8",
        "colab": {
          "base_uri": "https://localhost:8080/"
        }
      },
      "execution_count": 11,
      "outputs": [
        {
          "output_type": "execute_result",
          "data": {
            "text/plain": [
              "0      23\n",
              "2      16\n",
              "4      13\n",
              "1      13\n",
              "3      12\n",
              "       ..\n",
              "401     1\n",
              "218     1\n",
              "417     1\n",
              "247     1\n",
              "47      1\n",
              "Name: batsman_run, Length: 191, dtype: int64"
            ]
          },
          "metadata": {},
          "execution_count": 11
        }
      ]
    },
    {
      "cell_type": "markdown",
      "source": [
        "Download data - https://drive.google.com/file/d/1QZuZ5bypUInfVvarHACLAi8tXXHvb8xd/view?usp=share_link\n",
        "\n",
        "file name - items.csv\n",
        "\n"
      ],
      "metadata": {
        "id": "OAB1CgdgZEqE"
      }
    },
    {
      "cell_type": "code",
      "source": [
        "itms = pd.read_csv('/content/items.csv', index_col = ['item_name']).squeeze()"
      ],
      "metadata": {
        "id": "QuqtUkjqn3A9"
      },
      "execution_count": 12,
      "outputs": []
    },
    {
      "cell_type": "markdown",
      "source": [
        "###`Q-9`\n",
        "    i. Read `items.csv` making `item_name` as index.\n",
        "    ii. Show no of nan values\n",
        "    ii. Item price is given in $, so convert it to rupees without currency symbol.\n",
        "    iii. Make data type of newly made series as float.\n",
        "    iv. Fill nan with mean of the series\n",
        "\n",
        "\n",
        "How csv file looks\n",
        "\n",
        "```\n",
        "item_name\titem_price\n",
        "Chips and Fresh Tomato Salsa\t$2.39\n",
        "Izze\t$3.39\n",
        "Nantucket Nectar\t$3.39\n",
        "Chips and Tomatillo-Green Chili Salsa\t$2.39\n",
        "Chicken Bowl\t$16.98\n",
        "\n",
        "```"
      ],
      "metadata": {
        "id": "1UTQQImxZGLu"
      }
    },
    {
      "cell_type": "code",
      "source": [
        "itms.isnull().value_counts()\n",
        "def convert(x):\n",
        "    try:\n",
        "        y = x[1:]\n",
        "    except:\n",
        "      y=x\n",
        "    return float(y)*82.49\n",
        "itms.apply(convert)\n",
        "\n",
        "itms = itms.apply(convert)\n",
        "\n",
        "itms.fillna(itms.mean())"
      ],
      "metadata": {
        "id": "1xaWkoMJZFNK",
        "outputId": "86aad266-f361-4a37-ef4e-965f177a0224",
        "colab": {
          "base_uri": "https://localhost:8080/"
        }
      },
      "execution_count": 21,
      "outputs": [
        {
          "output_type": "execute_result",
          "data": {
            "text/plain": [
              "item_name\n",
              "Chips and Fresh Tomato Salsa              197.1511\n",
              "Izze                                      279.6411\n",
              "Nantucket Nectar                          279.6411\n",
              "Chips and Tomatillo-Green Chili Salsa     197.1511\n",
              "Chicken Bowl                             1400.6802\n",
              "                                           ...    \n",
              "Steak Burrito                             969.2575\n",
              "Steak Burrito                             969.2575\n",
              "Chicken Salad Bowl                        928.0125\n",
              "Chicken Salad Bowl                        721.7875\n",
              "Chicken Salad Bowl                        721.7875\n",
              "Name: item_price, Length: 4622, dtype: float64"
            ]
          },
          "metadata": {},
          "execution_count": 21
        }
      ]
    },
    {
      "cell_type": "markdown",
      "source": [
        "###`Q-10`:\n",
        "    i. Find mean price\n",
        "    ii. Find 30th and 6th percentile value\n",
        "    iii. Plot Histogram on price with bin size 50\n",
        "    iv. No of items price lies between [1000 to 2000]\n",
        "\n"
      ],
      "metadata": {
        "id": "UHc_4e9cZK8r"
      }
    },
    {
      "cell_type": "code",
      "source": [
        "itms.mean()"
      ],
      "metadata": {
        "id": "Eh3xX9FpZNmE",
        "outputId": "ecac8315-add9-4373-c565-2ecd83178e4b",
        "colab": {
          "base_uri": "https://localhost:8080/"
        }
      },
      "execution_count": 22,
      "outputs": [
        {
          "output_type": "execute_result",
          "data": {
            "text/plain": [
              "615.6254681102363"
            ]
          },
          "metadata": {},
          "execution_count": 22
        }
      ]
    },
    {
      "cell_type": "code",
      "source": [
        "itms.quantile(q=0.3)\n",
        "itms.quantile(q=0.06)"
      ],
      "metadata": {
        "id": "JOuJoIB-kH3d",
        "outputId": "e835f8c4-acbe-43f3-9db1-22e0a741e6b7",
        "colab": {
          "base_uri": "https://localhost:8080/",
          "height": 158
        }
      },
      "execution_count": 23,
      "outputs": [
        {
          "output_type": "error",
          "ename": "NameError",
          "evalue": "name 'items' is not defined",
          "traceback": [
            "\u001b[0;31m---------------------------------------------------------------------------\u001b[0m",
            "\u001b[0;31mNameError\u001b[0m                                 Traceback (most recent call last)",
            "\u001b[0;32m<ipython-input-23-d806e15fb5d7>\u001b[0m in \u001b[0;36m<cell line: 1>\u001b[0;34m()\u001b[0m\n\u001b[0;32m----> 1\u001b[0;31m \u001b[0mitems\u001b[0m\u001b[0;34m.\u001b[0m\u001b[0mquantile\u001b[0m\u001b[0;34m(\u001b[0m\u001b[0mq\u001b[0m\u001b[0;34m=\u001b[0m\u001b[0;36m0.3\u001b[0m\u001b[0;34m)\u001b[0m\u001b[0;34m\u001b[0m\u001b[0;34m\u001b[0m\u001b[0m\n\u001b[0m\u001b[1;32m      2\u001b[0m \u001b[0mitems\u001b[0m\u001b[0;34m.\u001b[0m\u001b[0mquantile\u001b[0m\u001b[0;34m(\u001b[0m\u001b[0mq\u001b[0m\u001b[0;34m=\u001b[0m\u001b[0;36m0.06\u001b[0m\u001b[0;34m)\u001b[0m\u001b[0;34m\u001b[0m\u001b[0;34m\u001b[0m\u001b[0m\n",
            "\u001b[0;31mNameError\u001b[0m: name 'items' is not defined"
          ]
        }
      ]
    },
    {
      "cell_type": "code",
      "source": [
        "itms.plot.hist(bins=50)"
      ],
      "metadata": {
        "id": "pN7-h4M9kLBr",
        "outputId": "a575e193-cb4f-439a-949a-679fded26833",
        "colab": {
          "base_uri": "https://localhost:8080/",
          "height": 447
        }
      },
      "execution_count": 25,
      "outputs": [
        {
          "output_type": "execute_result",
          "data": {
            "text/plain": [
              "<Axes: ylabel='Frequency'>"
            ]
          },
          "metadata": {},
          "execution_count": 25
        },
        {
          "output_type": "display_data",
          "data": {
            "text/plain": [
              "<Figure size 640x480 with 1 Axes>"
            ],
            "image/png": "[encoded data removed]"
          },
          "metadata": {}
        }
      ]
    },
    {
      "cell_type": "code",
      "source": [],
      "metadata": {
        "id": "alMuPxNbkdVf"
      },
      "execution_count": null,
      "outputs": []
    }
  ]
}