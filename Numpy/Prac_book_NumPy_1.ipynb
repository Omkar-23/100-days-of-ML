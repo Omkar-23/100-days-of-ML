{
  "nbformat": 4,
  "nbformat_minor": 0,
  "metadata": {
    "colab": {
      "provenance": []
    },
    "kernelspec": {
      "name": "python3",
      "display_name": "Python 3"
    },
    "language_info": {
      "name": "python"
    }
  },
  "cells": [
    {
      "cell_type": "code",
      "source": [
        "import numpy as np"
      ],
      "metadata": {
        "id": "-J4F1ysN4mLk"
      },
      "execution_count": null,
      "outputs": []
    },
    {
      "cell_type": "markdown",
      "source": [
        "###`Q-1` Create a null vector of size 10 but the fifth value which is 1.\n",
        "\n"
      ],
      "metadata": {
        "id": "a_K8IH-C6HDK"
      }
    },
    {
      "cell_type": "code",
      "source": [
        "a =np.nan*np.empty(10)\n",
        "a[4]= 1\n",
        "print(a)"
      ],
      "metadata": {
        "id": "sTF03KsZ6QUI",
        "outputId": "2a445b1a-571b-4d6c-e67b-db8ad4397f16",
        "colab": {
          "base_uri": "https://localhost:8080/"
        }
      },
      "execution_count": null,
      "outputs": [
        {
          "output_type": "stream",
          "name": "stdout",
          "text": [
            "[nan nan nan nan  1. nan nan nan nan nan]\n"
          ]
        }
      ]
    },
    {
      "cell_type": "markdown",
      "source": [
        "###`Q-2` Ask user to input two numbers a, b. Write a program to generate a random array of shape (a, b) and print the array and avg of the array."
      ],
      "metadata": {
        "id": "TEiG25rS6S1i"
      }
    },
    {
      "cell_type": "code",
      "source": [
        "a = int(input(\"row\"))\n",
        "b = int(input(\"cols\"))\n",
        "arr = np.random.random((a,b))\n",
        "np.average(arr)"
      ],
      "metadata": {
        "id": "ihwn4oOH6Vh7",
        "outputId": "d82986cf-e1da-4a33-b4f1-1465ecae68cd",
        "colab": {
          "base_uri": "https://localhost:8080/"
        }
      },
      "execution_count": null,
      "outputs": [
        {
          "name": "stdout",
          "output_type": "stream",
          "text": [
            "row4\n",
            "cols5\n"
          ]
        },
        {
          "output_type": "execute_result",
          "data": {
            "text/plain": [
              "0.4805617049824079"
            ]
          },
          "metadata": {},
          "execution_count": 143
        }
      ]
    },
    {
      "cell_type": "markdown",
      "source": [
        "###`Q-3`Write a function to create a 2d array with 1 on the border and 0 inside. Take 2-D array shape as (a,b) as parameter to function.\n",
        "\n",
        "Eg.-\n",
        "```\n",
        "[[1,1,1,1],\n",
        "[1,0,0,1],\n",
        "[1,0,0,1],\n",
        "[1,1,1,1]]\n",
        "```"
      ],
      "metadata": {
        "id": "2iEeybS06ZSq"
      }
    },
    {
      "cell_type": "code",
      "source": [
        "a = 4\n",
        "b = 4\n",
        "x= np.ones((a,b))\n",
        "x[1:-1, 1:-1] = 0\n",
        "print(x)"
      ],
      "metadata": {
        "id": "xH4KQdUsrpQ8",
        "outputId": "f1a52553-ea8c-446d-def1-a550e4783035",
        "colab": {
          "base_uri": "https://localhost:8080/"
        }
      },
      "execution_count": null,
      "outputs": [
        {
          "output_type": "stream",
          "name": "stdout",
          "text": [
            "[[1. 1. 1. 1.]\n",
            " [1. 0. 0. 1.]\n",
            " [1. 0. 0. 1.]\n",
            " [1. 1. 1. 1.]]\n"
          ]
        }
      ]
    },
    {
      "cell_type": "markdown",
      "source": [
        "###`Q-4` Create a vector of size 10 with values ranging from 0 to 1, both excluded.\n"
      ],
      "metadata": {
        "id": "QRJicQ8j6ZlE"
      }
    },
    {
      "cell_type": "code",
      "source": [
        "x=np.linspace(0, 40, 10)\n",
        "print(x)"
      ],
      "metadata": {
        "id": "eC4XLhDq6ZlF",
        "outputId": "24573b72-a913-4e93-d6dc-10fe0283d8f4",
        "colab": {
          "base_uri": "https://localhost:8080/"
        }
      },
      "execution_count": null,
      "outputs": [
        {
          "output_type": "stream",
          "name": "stdout",
          "text": [
            "[ 0.          4.44444444  8.88888889 13.33333333 17.77777778 22.22222222\n",
            " 26.66666667 31.11111111 35.55555556 40.        ]\n"
          ]
        }
      ]
    },
    {
      "cell_type": "markdown",
      "source": [
        "###`Q-5` Can you create a identity mattrix of shape (3,4). If yes write code for it."
      ],
      "metadata": {
        "id": "vb4jK4yQ6Zs2"
      }
    },
    {
      "cell_type": "code",
      "source": [
        "np.eye(4)"
      ],
      "metadata": {
        "id": "DTV_AbMS6Zs4",
        "outputId": "2ca73021-1f8c-4fad-cf6e-3304a0889cfe",
        "colab": {
          "base_uri": "https://localhost:8080/"
        }
      },
      "execution_count": null,
      "outputs": [
        {
          "output_type": "execute_result",
          "data": {
            "text/plain": [
              "array([[1., 0., 0., 0.],\n",
              "       [0., 1., 0., 0.],\n",
              "       [0., 0., 1., 0.],\n",
              "       [0., 0., 0., 1.]])"
            ]
          },
          "metadata": {},
          "execution_count": 146
        }
      ]
    },
    {
      "cell_type": "markdown",
      "source": [
        "###`Q-6:` Create a 5x5 matrix with row values ranging from 0 to 4."
      ],
      "metadata": {
        "id": "QtjAFm5PEntK"
      }
    },
    {
      "cell_type": "code",
      "source": [
        "a1 = np.random.randint(0,4,25).reshape(5,5)\n",
        "a1 =np.sort(a1)\n",
        "print(a1)"
      ],
      "metadata": {
        "id": "z2WGxRjvEuRS",
        "outputId": "bddc3581-4bc6-441d-8aa6-7de32002e197",
        "colab": {
          "base_uri": "https://localhost:8080/"
        }
      },
      "execution_count": null,
      "outputs": [
        {
          "output_type": "stream",
          "name": "stdout",
          "text": [
            "[[0 0 3 3 3]\n",
            " [0 1 2 2 3]\n",
            " [2 2 3 3 3]\n",
            " [0 1 2 2 3]\n",
            " [0 0 1 1 3]]\n"
          ]
        }
      ]
    },
    {
      "cell_type": "markdown",
      "source": [
        "###`Q-8:` Consider a (6,7,8) shape array, what is the index (x,y,z) of the 100th element?"
      ],
      "metadata": {
        "id": "tajOFJlCDwTr"
      }
    },
    {
      "cell_type": "code",
      "source": [
        "np.unravel_index(100, (6,7,8))"
      ],
      "metadata": {
        "id": "qH4oxvs0D3Ra",
        "outputId": "7193f002-ad34-46ed-9ec1-bab497f72374",
        "colab": {
          "base_uri": "https://localhost:8080/"
        }
      },
      "execution_count": null,
      "outputs": [
        {
          "output_type": "execute_result",
          "data": {
            "text/plain": [
              "(1, 5, 4)"
            ]
          },
          "metadata": {},
          "execution_count": 148
        }
      ]
    },
    {
      "cell_type": "markdown",
      "source": [
        "### `Q-9:` Arrays\n",
        "\n",
        "You are given a space separated list of numbers. Your task is to print a reversed NumPy array with the element type float.\n",
        "\n"
      ],
      "metadata": {
        "id": "9LxBAbT2Pw33"
      }
    },
    {
      "cell_type": "markdown",
      "source": [
        "**Input Format:**\n",
        "\n",
        "A single line of input containing space separated numbers.\n",
        "\n",
        "**Output Format:**\n",
        "\n",
        "Print the reverse NumPy array with type float.\n",
        "\n",
        "**Example 1:**\n",
        "\n",
        "Input:\n",
        "\n",
        "```bash\n",
        "1 2 3 4 -8 -10\n",
        "```\n",
        "\n",
        "Output:\n",
        "\n",
        "```bash\n",
        "[-10.  -8.   4.   3.   2.   1.]\n",
        "```"
      ],
      "metadata": {
        "id": "JJpqVms2Nq7L"
      }
    },
    {
      "cell_type": "code",
      "source": [
        "s = input().strip().split()\n",
        "x = np.array(s, dtype = np.float32)\n",
        "print(x[::-1])"
      ],
      "metadata": {
        "id": "7iQyg6ChNl3j",
        "outputId": "a40b966d-decb-4812-edfb-8a81dd1dcacc",
        "colab": {
          "base_uri": "https://localhost:8080/"
        }
      },
      "execution_count": null,
      "outputs": [
        {
          "output_type": "stream",
          "name": "stdout",
          "text": [
            "12\n",
            "[12.]\n"
          ]
        }
      ]
    },
    {
      "cell_type": "markdown",
      "source": [
        "### `Q-10:` Elements count\n",
        "\n",
        "Count the number of elements of a numpy array.\n",
        "\n"
      ],
      "metadata": {
        "id": "TPxD7jM8Sjz9"
      }
    },
    {
      "cell_type": "markdown",
      "source": [
        "**Example 1:**\n",
        "\n",
        "Input:\n",
        "```bash\n",
        "np.array([])\n",
        "```\n",
        "\n",
        "Output:\n",
        "```bash\n",
        "elements_count :  0\n",
        "```\n",
        "\n",
        "**Example 2:**\n",
        "\n",
        "Input:\n",
        "```bash\n",
        "np.array([1, 2])\n",
        "```\n",
        "\n",
        "Output:\n",
        "```bash\n",
        "elements_count :  2\n",
        "```"
      ],
      "metadata": {
        "id": "oHTiTz_jNkAU"
      }
    },
    {
      "cell_type": "code",
      "source": [
        "a = np.array([1,2])\n",
        "a.size"
      ],
      "metadata": {
        "id": "RG0H2I-TNeGN",
        "outputId": "f91b5671-d9fc-4c59-a85f-e164e8c5c47e",
        "colab": {
          "base_uri": "https://localhost:8080/"
        }
      },
      "execution_count": null,
      "outputs": [
        {
          "output_type": "execute_result",
          "data": {
            "text/plain": [
              "2"
            ]
          },
          "metadata": {},
          "execution_count": 150
        }
      ]
    },
    {
      "cell_type": "markdown",
      "source": [
        "### `Q-11:` Softmax function\n",
        "\n",
        "Create a Python function to calculate the Softmax of the given numpy 1D array. The function only accepts the numpy 1D array, otherwise raise error.\n",
        "\n",
        "$$\\Large \\sigma(\\vec z)_i = \\frac{e^{z_i}}{\\sum_{j=i}^{K}{e^{z_j}}}$$\n",
        "\n",
        "https://en.wikipedia.org/wiki/Softmax_function\n",
        "\n"
      ],
      "metadata": {
        "id": "pwgPz-3l5ic5"
      }
    },
    {
      "cell_type": "markdown",
      "source": [
        "**Example 1:**\n",
        "\n",
        "Input:\n",
        "```bash\n",
        "[86.03331084 37.7285648  48.64908087 87.16563062 38.40852563 37.20006318]\n",
        "```\n",
        "\n",
        "Output:\n",
        "```bash\n",
        "[2.43733249e-01, 2.56112115e-22, 1.41628284e-17, 7.56266751e-01,\n",
        "       5.05514197e-22, 1.50974911e-22]\n",
        "```\n",
        "\n",
        "**Example 2:**\n",
        "\n",
        "Input:\n",
        "```bash\n",
        "[33.17344305 45.61961654 82.05405781 80.9647098  68.82830233 91.52064278]\n",
        "```\n",
        "\n",
        "Output:\n",
        "```bash\n",
        "[4.57181035e-26, 1.16249923e-20, 7.73872596e-05, 2.60358426e-05,\n",
        "       1.39571531e-10, 9.99896577e-01]\n",
        "```"
      ],
      "metadata": {
        "id": "eZ3WJt6UM1ul"
      }
    },
    {
      "cell_type": "code",
      "source": [
        "def softmax(arr):\n",
        "    if type(arr) != np.ndarray:\n",
        "        raise TypeError(\"Need Numpy Array\")\n",
        "    elif arr.ndim > 1:\n",
        "        raise TypeError(\"need 1D Array\")\n",
        "    s = np.sum(np.exp(arr))\n",
        "    return np.exp(arr)/s\n",
        "softmax(np.array([33.17344305, 45.61961654 ,82.05405781 ,80.9647098  ,68.82830233 ,91.52064278]))"
      ],
      "metadata": {
        "id": "VNzj05lkNaNi",
        "outputId": "42c8e474-b602-4df7-84c9-a69da3704a69",
        "colab": {
          "base_uri": "https://localhost:8080/"
        }
      },
      "execution_count": null,
      "outputs": [
        {
          "output_type": "execute_result",
          "data": {
            "text/plain": [
              "array([4.57181033e-26, 1.16249922e-20, 7.73872594e-05, 2.60358426e-05,\n",
              "       1.39571531e-10, 9.99896577e-01])"
            ]
          },
          "metadata": {},
          "execution_count": 151
        }
      ]
    },
    {
      "cell_type": "markdown",
      "source": [
        "### `Q-12:` Vertical stack\n",
        "\n",
        "Write a python function that accepts infinite number of numpy arrays and do the vertical stack to them. Then return that new array as result. The function only accepts the numpy array, otherwise raise error.\n",
        "\n"
      ],
      "metadata": {
        "id": "k4JWSwWu_HXg"
      }
    },
    {
      "cell_type": "markdown",
      "source": [
        "**Example 1:**\n",
        "\n",
        "Input:\n",
        "```bash\n",
        "a= [[0 1 2 3 4]\n",
        " [5 6 7 8 9]]\n",
        "\n",
        "b= [[1 1 1 1 1]\n",
        " [1 1 1 1 1]]\n",
        "```\n",
        "\n",
        "Output:\n",
        "\n",
        "```bash\n",
        "[[0 1 2 3 4]\n",
        " [5 6 7 8 9]\n",
        " [1 1 1 1 1]\n",
        " [1 1 1 1 1]]\n",
        "```\n",
        "\n",
        "**Example 2:**\n",
        "\n",
        "Input:\n",
        "```bash\n",
        "a= [[0 1 2 3 4]\n",
        " [5 6 7 8 9]]\n",
        "\n",
        "b= [[1 1 1 1 1]\n",
        " [1 1 1 1 1]]\n",
        "\n",
        "c= [[0.10117373 0.1677244  0.73764059 0.83166097 0.48985695]\n",
        " [0.44581567 0.13502419 0.55692335 0.16479622 0.61193593]]\n",
        "```\n",
        "\n",
        "Output:\n",
        "```bash\n",
        "[[0.         1.         2.         3.         4.        ]\n",
        " [5.         6.         7.         8.         9.        ]\n",
        " [1.         1.         1.         1.         1.        ]\n",
        " [1.         1.         1.         1.         1.        ]\n",
        " [0.10117373 0.1677244  0.73764059 0.83166097 0.48985695]\n",
        " [0.44581567 0.13502419 0.55692335 0.16479622 0.61193593]]\n",
        "```"
      ],
      "metadata": {
        "id": "XhhV3mraNAWr"
      }
    },
    {
      "cell_type": "code",
      "source": [
        "def vertical_stack(*args):\n",
        "    for i in args:\n",
        "        if type(i) != np.ndarray:\n",
        "            raise TypeError(\"Numpy Array\")\n",
        "    return np.vstack(args)\n",
        "\n",
        "a = np.arange(10).reshape(2, -1)\n",
        "print(\"a=\",a)\n",
        "b = np.repeat(1, 10).reshape(2, -1)\n",
        "print(\"b=\",b)\n",
        "print(vertical_stack(a,b))\n",
        "c = np.random.random((2,5))\n",
        "print(\"c=\", c)\n",
        "vertical_stack(a,b,c)"
      ],
      "metadata": {
        "id": "dhtnbSj6NP8z",
        "outputId": "9de6e0e8-443b-408f-cc0c-7072c33984a8",
        "colab": {
          "base_uri": "https://localhost:8080/"
        }
      },
      "execution_count": null,
      "outputs": [
        {
          "output_type": "stream",
          "name": "stdout",
          "text": [
            "a= [[0 1 2 3 4]\n",
            " [5 6 7 8 9]]\n",
            "b= [[1 1 1 1 1]\n",
            " [1 1 1 1 1]]\n",
            "[[0 1 2 3 4]\n",
            " [5 6 7 8 9]\n",
            " [1 1 1 1 1]\n",
            " [1 1 1 1 1]]\n",
            "c= [[0.01978371 0.56877966 0.42911453 0.64711151 0.24217101]\n",
            " [0.9998918  0.83468369 0.7561078  0.85442343 0.65292774]]\n"
          ]
        },
        {
          "output_type": "execute_result",
          "data": {
            "text/plain": [
              "array([[0.        , 1.        , 2.        , 3.        , 4.        ],\n",
              "       [5.        , 6.        , 7.        , 8.        , 9.        ],\n",
              "       [1.        , 1.        , 1.        , 1.        , 1.        ],\n",
              "       [1.        , 1.        , 1.        , 1.        , 1.        ],\n",
              "       [0.01978371, 0.56877966, 0.42911453, 0.64711151, 0.24217101],\n",
              "       [0.9998918 , 0.83468369, 0.7561078 , 0.85442343, 0.65292774]])"
            ]
          },
          "metadata": {},
          "execution_count": 152
        }
      ]
    },
    {
      "cell_type": "markdown",
      "source": [
        "### `Q-13:` Dates\n",
        "\n",
        "Create a python function named **date_array** that accepts two dates as string format and returns a numpy array of dates between those 2 dates. The function only accept 2 strings, otherwise raise error. The date format should be like this only: `2022-12-6`. The end date should be included and for simplicity, choose dates from a same year.\n",
        "\n"
      ],
      "metadata": {
        "id": "3mk8T6CuC2DP"
      }
    },
    {
      "cell_type": "markdown",
      "source": [
        "**Example 1:**\n",
        "\n",
        "Input:\n",
        "```bash\n",
        "date_array(start = '2020-09-15', end = '2020-09-25')\n",
        "```\n",
        "\n",
        "Output:\n",
        "```bash\n",
        "['2020-09-15', '2020-09-16', '2020-09-17', '2020-09-18',\n",
        " '2020-09-19', '2020-09-20', '2020-09-21', '2020-09-22',\n",
        " '2020-09-23', '2020-09-24', '2020-09-25']\n",
        "```\n",
        "\n",
        "**Example 2:**\n",
        "\n",
        "Input:\n",
        "```bash\n",
        "date_array(start = '2022-12-01', end = '2022-12-06')\n",
        "```\n",
        "\n",
        "Output:\n",
        "```bash\n",
        "['2022-12-01', '2022-12-02', '2022-12-03', '2022-12-04', '2022-12-05', '2022-12-06']\n",
        "```\n",
        "\n",
        "**Example 3:**\n",
        "\n",
        "Input:\n",
        "```bash\n",
        "date_array(start = '2020-11-25', end = '2020-11-30')\n",
        "```\n",
        "\n",
        "Output:\n",
        "```bash\n",
        "['2020-11-25', '2020-11-26', '2020-11-27', '2020-11-28',\n",
        " '2020-11-29', '2020-11-30']\n",
        "```"
      ],
      "metadata": {
        "id": "E3IgjnTTNFEk"
      }
    },
    {
      "cell_type": "code",
      "source": [
        "def date_array(start: str, end: str):\n",
        "    if type(start) != str or type(end) != str:\n",
        "        raise TypeError\n",
        "\n",
        "    total_days_of_month = {\"01\": 31, \"02\": 28, \"03\": 31, \"04\":30, \"05\": 31, \"06\":30, \"07\":31, \"08\":31, \"09\":30, \"10\": 31, \"11\":30, \"12\":31}\n",
        "\n",
        "    end = end.split(\"-\")\n",
        "    end_last = int(end[-1]) + 1\n",
        "\n",
        "    # If the next day of end falls in the next month, account for that\n",
        "    if total_days_of_month[end[-2]] < end_last:\n",
        "        days_diff = end_last - total_days_of_month[end[-2]]\n",
        "        end[-1] = f'0{days_diff}' if days_diff< 10 else f'{days_diff}'\n",
        "        next_month = int(end[-2]) + 1\n",
        "        end[-2] = f'0{next_month}' if next_month< 10 else f'{next_month}'\n",
        "    else:\n",
        "        end[-1] = f'0{end_last}' if end_last < 10 else f'{end_last}'\n",
        "    end = \"-\".join(end)\n",
        "    return np.arange(start, end, dtype=\"datetime64[D]\")    # Use arange() to generate all dates between start and end\n",
        "date_array(start = '2020-11-25', end = '2020-11-30')"
      ],
      "metadata": {
        "id": "Yj5PBfQQNTnL",
        "outputId": "78d72405-5abd-4bfe-8a10-a7ff56b75031",
        "colab": {
          "base_uri": "https://localhost:8080/"
        }
      },
      "execution_count": null,
      "outputs": [
        {
          "output_type": "execute_result",
          "data": {
            "text/plain": [
              "array(['2020-11-25', '2020-11-26', '2020-11-27', '2020-11-28',\n",
              "       '2020-11-29', '2020-11-30'], dtype='datetime64[D]')"
            ]
          },
          "metadata": {},
          "execution_count": 153
        }
      ]
    },
    {
      "cell_type": "markdown",
      "source": [
        "###`Q-14:` Subtract the mean of each row from a matrix."
      ],
      "metadata": {
        "id": "bcEp0wTWQijK"
      }
    },
    {
      "cell_type": "code",
      "source": [
        "x = np.random.random((5,4))\n",
        "x - x.mean(axis = 1, keepdims = True)"
      ],
      "metadata": {
        "id": "rpILVGcgQzMo",
        "outputId": "ae26eec2-140d-47c6-d57f-c31c4023bed8",
        "colab": {
          "base_uri": "https://localhost:8080/"
        }
      },
      "execution_count": null,
      "outputs": [
        {
          "output_type": "execute_result",
          "data": {
            "text/plain": [
              "array([[ 0.24824929, -0.35496097, -0.06686662,  0.1735783 ],\n",
              "       [-0.48393312,  0.13559444,  0.09485359,  0.25348509],\n",
              "       [-0.07277725, -0.07942746,  0.26672091, -0.1145162 ],\n",
              "       [-0.11791266, -0.11973579,  0.34296118, -0.10531273],\n",
              "       [-0.36218521, -0.08030479,  0.03429612,  0.40819388]])"
            ]
          },
          "metadata": {},
          "execution_count": 154
        }
      ]
    },
    {
      "cell_type": "markdown",
      "source": [
        "###`Q-15:` Swap column-1 of array with column-2 in the array."
      ],
      "metadata": {
        "id": "A-dMVlPPSBTT"
      }
    },
    {
      "cell_type": "code",
      "source": [
        "a = np.arange(9).reshape(3,3)\n",
        "a[:, [0, 2, 1]]\n"
      ],
      "metadata": {
        "id": "3RtngM9-Q6S7",
        "outputId": "76436be7-bcd5-4561-cc0d-24b9550dbe0f",
        "colab": {
          "base_uri": "https://localhost:8080/"
        }
      },
      "execution_count": null,
      "outputs": [
        {
          "output_type": "execute_result",
          "data": {
            "text/plain": [
              "array([[0, 2, 1],\n",
              "       [3, 5, 4],\n",
              "       [6, 8, 7]])"
            ]
          },
          "metadata": {},
          "execution_count": 155
        }
      ]
    },
    {
      "cell_type": "code",
      "source": [],
      "metadata": {
        "id": "ueoMV_LlSnGU"
      },
      "execution_count": null,
      "outputs": []
    },
    {
      "cell_type": "markdown",
      "source": [
        "###`Q-16:` Replace odd elements in arrays with -1."
      ],
      "metadata": {
        "id": "cB4VMexvS6Zi"
      }
    },
    {
      "cell_type": "code",
      "source": [],
      "metadata": {
        "id": "Bt83nXEVS5O4"
      },
      "execution_count": null,
      "outputs": []
    },
    {
      "cell_type": "code",
      "source": [
        "a = np.arange(10)\n",
        "a[a%2 == 1] = -1\n",
        "a"
      ],
      "metadata": {
        "id": "1ZlvMaXLVyoW",
        "outputId": "1434f91d-fe47-48c9-b7fb-4dcb53ed83e3",
        "colab": {
          "base_uri": "https://localhost:8080/"
        }
      },
      "execution_count": null,
      "outputs": [
        {
          "output_type": "execute_result",
          "data": {
            "text/plain": [
              "array([ 0, -1,  2, -1,  4, -1,  6, -1,  8, -1])"
            ]
          },
          "metadata": {},
          "execution_count": 156
        }
      ]
    },
    {
      "cell_type": "markdown",
      "source": [
        "###`Q-17:` Given two arrays of same shape make an array of max out of two arrays. (Numpy way)\n",
        "```\n",
        "a=np.array([6,3,1,5,8])\n",
        "b=np.array([3,2,1,7,2])\n",
        "\n",
        "Result-> [6 3 1 7 8]\n",
        "```"
      ],
      "metadata": {
        "id": "kf_qvmBxWIT_"
      }
    },
    {
      "cell_type": "code",
      "source": [
        "#Code here"
      ],
      "metadata": {
        "id": "TB9ZvF-EZSfu"
      },
      "execution_count": null,
      "outputs": []
    },
    {
      "cell_type": "code",
      "source": [
        "a=np.array([6,3,1,5,8])\n",
        "b=np.array([3,2,1,7,2])\n",
        "\n",
        "a[b>a] = b[a<b]\n",
        "a"
      ],
      "metadata": {
        "id": "D7ad-A6jZzCL",
        "outputId": "6778abba-e701-4a15-cc34-905e6db2b949",
        "colab": {
          "base_uri": "https://localhost:8080/"
        }
      },
      "execution_count": null,
      "outputs": [
        {
          "output_type": "execute_result",
          "data": {
            "text/plain": [
              "array([6, 3, 1, 7, 8])"
            ]
          },
          "metadata": {},
          "execution_count": 158
        }
      ]
    },
    {
      "cell_type": "markdown",
      "source": [
        "###`Q-18` Answer below asked questions on given array:\n",
        "1. Fetch Every alternate column of the array\n",
        "2. Normalise the given array\n",
        "\n",
        "https://en.wikipedia.org/wiki/Normalization_(statistics)\n",
        "\n",
        "There are different form of normalisation for this question use below formula.\n",
        "\n",
        "$$\\large X_{normalized} = \\frac{X - X_{min}}{X_{max} - X_{min}}$$\n",
        "\n",
        "```python\n",
        "arr1=np.random.randint(low=1, high=10000, size=40).reshape(8,5)\n",
        "```\n"
      ],
      "metadata": {
        "id": "iOQLUIeGc3zA"
      }
    },
    {
      "cell_type": "code",
      "source": [
        "# Given\n",
        "arr1=np.random.randint(low=1, high=10000, size=40).reshape(8,5)\n",
        "arr1"
      ],
      "metadata": {
        "colab": {
          "base_uri": "https://localhost:8080/"
        },
        "id": "vjSm18k3d_1p",
        "outputId": "481cb0c1-b164-4ef1-9862-d8179f8886d9"
      },
      "execution_count": null,
      "outputs": [
        {
          "output_type": "execute_result",
          "data": {
            "text/plain": [
              "array([[4982, 2250, 3502, 6672, 9811],\n",
              "       [ 212, 6914, 7215, 9956, 6305],\n",
              "       [8665, 6803, 6783, 3680, 1886],\n",
              "       [6984, 5780,  597, 2650, 6398],\n",
              "       [3000, 8059, 3904, 3962, 3064],\n",
              "       [1389, 8754, 9808, 1432, 9205],\n",
              "       [9428,  926, 4037, 2463, 5824],\n",
              "       [ 934, 4992, 8321, 5724, 3118]])"
            ]
          },
          "metadata": {},
          "execution_count": 162
        }
      ]
    },
    {
      "cell_type": "code",
      "source": [
        "arr1[:, ::2]"
      ],
      "metadata": {
        "id": "d7u8DB47eBfQ",
        "outputId": "3c5b620e-cc08-4fb2-f31f-133fe362f130",
        "colab": {
          "base_uri": "https://localhost:8080/"
        }
      },
      "execution_count": null,
      "outputs": [
        {
          "output_type": "execute_result",
          "data": {
            "text/plain": [
              "array([[4982, 3502, 9811],\n",
              "       [ 212, 7215, 6305],\n",
              "       [8665, 6783, 1886],\n",
              "       [6984,  597, 6398],\n",
              "       [3000, 3904, 3064],\n",
              "       [1389, 9808, 9205],\n",
              "       [9428, 4037, 5824],\n",
              "       [ 934, 8321, 3118]])"
            ]
          },
          "metadata": {},
          "execution_count": 163
        }
      ]
    },
    {
      "cell_type": "markdown",
      "source": [
        "###`Q-19:` Write a function which will accept 2 arguments.\n",
        "First: A 1D numpy array arr\n",
        "\n",
        "Second: An integer n {Please make sure n<=len(arr)}\n",
        "\n",
        "Output: The output should be the nth largest item out of the array\n",
        "```\n",
        "# Example1 : arr=(12,34,40,7,1,0) and n=3, the output should be 12\n",
        "# Example2 : arr=(12,34,40,7,1,0) and n=1, the output should be 40\n",
        "```"
      ],
      "metadata": {
        "id": "jCzsVEKLgGNo"
      }
    },
    {
      "cell_type": "code",
      "source": [
        "(arr1 - arr1.min())/(arr1.max() - arr1.min())"
      ],
      "metadata": {
        "id": "J4AzkDk7gXSG",
        "outputId": "225a61e3-1e64-4d61-bc37-bcdafec34528",
        "colab": {
          "base_uri": "https://localhost:8080/"
        }
      },
      "execution_count": null,
      "outputs": [
        {
          "output_type": "execute_result",
          "data": {
            "text/plain": [
              "array([[0.48953202, 0.20915435, 0.33764368, 0.66297209, 0.98511905],\n",
              "       [0.        , 0.68780788, 0.71869869, 1.        , 0.62530788],\n",
              "       [0.86750821, 0.67641626, 0.67436371, 0.35591133, 0.17179803],\n",
              "       [0.69499179, 0.57142857, 0.03951149, 0.25020525, 0.63485222],\n",
              "       [0.28612479, 0.80531609, 0.37889984, 0.38485222, 0.29269294],\n",
              "       [0.12079228, 0.87664204, 0.98481117, 0.12520525, 0.92292693],\n",
              "       [0.94581281, 0.07327586, 0.39254926, 0.23101396, 0.57594417],\n",
              "       [0.07409688, 0.49055829, 0.83220443, 0.56568144, 0.29823481]])"
            ]
          },
          "metadata": {},
          "execution_count": 164
        }
      ]
    },
    {
      "cell_type": "markdown",
      "source": [
        "###`Q-20:` Create the following pattern without hardcoding. Use only numpy functions and the below input array a.\n",
        "```\n",
        "# Input: a = np.array([1,2,3])\n",
        "# Output: array([1, 1, 1, 2, 2, 2, 3, 3, 3, 1, 2, 3, 1, 2, 3, 1, 2, 3])\n",
        "```"
      ],
      "metadata": {
        "id": "ja0xPCgjhBsg"
      }
    },
    {
      "cell_type": "code",
      "source": [
        "a = np.array([1,2,3])\n",
        "np.hstack([np.repeat(a, 3), np.tile(a, 3)])"
      ],
      "metadata": {
        "id": "CndS8TTNhG0F",
        "outputId": "736e49b9-cc8e-458f-fdc7-96dc074ce751",
        "colab": {
          "base_uri": "https://localhost:8080/"
        }
      },
      "execution_count": null,
      "outputs": [
        {
          "output_type": "execute_result",
          "data": {
            "text/plain": [
              "array([1, 1, 1, 2, 2, 2, 3, 3, 3, 1, 2, 3, 1, 2, 3, 1, 2, 3])"
            ]
          },
          "metadata": {},
          "execution_count": 165
        }
      ]
    },
    {
      "cell_type": "code",
      "source": [],
      "metadata": {
        "id": "uZbCmS9Y-STJ"
      },
      "execution_count": null,
      "outputs": []
    }
  ]
}