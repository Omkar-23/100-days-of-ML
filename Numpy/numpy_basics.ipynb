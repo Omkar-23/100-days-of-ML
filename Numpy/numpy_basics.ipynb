{
  "cells": [
    {
      "cell_type": "code",
      "execution_count": 2,
      "metadata": {
        "id": "8tcPbKOTJk_A"
      },
      "outputs": [],
      "source": [
        "import numpy as np"
      ]
    },
    {
      "cell_type": "code",
      "execution_count": 3,
      "metadata": {
        "id": "qdOBQVDSJ9-T"
      },
      "outputs": [],
      "source": [
        "a = np.arange(10)\n",
        "a2 = np.arange(12, dtype = float).reshape(6,2)\n",
        "a3= np.arange(18).reshape(3,3,2)"
      ]
    },
    {
      "cell_type": "code",
      "execution_count": 4,
      "metadata": {
        "colab": {
          "base_uri": "https://localhost:8080/"
        },
        "id": "BiT_7xbDKwOq",
        "outputId": "a1918988-5d49-41dc-869b-e6865540d34f"
      },
      "outputs": [
        {
          "data": {
            "text/plain": [
              "2"
            ]
          },
          "execution_count": 4,
          "metadata": {},
          "output_type": "execute_result"
        }
      ],
      "source": [
        "a2.ndim # specifies the dimension of the array"
      ]
    },
    {
      "cell_type": "code",
      "execution_count": 5,
      "metadata": {
        "colab": {
          "base_uri": "https://localhost:8080/"
        },
        "id": "3iq4dN4WLLUK",
        "outputId": "c527b7be-f1e7-48ef-9dcd-ecc8fdc63172"
      },
      "outputs": [
        {
          "data": {
            "text/plain": [
              "(6, 2)"
            ]
          },
          "execution_count": 5,
          "metadata": {},
          "output_type": "execute_result"
        }
      ],
      "source": [
        "a2.shape #returns the shape of the given narray"
      ]
    },
    {
      "cell_type": "code",
      "execution_count": 6,
      "metadata": {
        "colab": {
          "base_uri": "https://localhost:8080/"
        },
        "id": "0vIX1aMwLSkR",
        "outputId": "581d4202-8c50-4cfd-8893-85678fb8bce6"
      },
      "outputs": [
        {
          "name": "stdout",
          "output_type": "stream",
          "text": [
            "12\n"
          ]
        }
      ],
      "source": [
        "print(a2.size)"
      ]
    },
    {
      "cell_type": "code",
      "execution_count": 7,
      "metadata": {
        "id": "35gmYKyGL4Rz"
      },
      "outputs": [],
      "source": [
        "#itemsize: returns the memory consumed in memory by each item"
      ]
    },
    {
      "cell_type": "code",
      "execution_count": 8,
      "metadata": {
        "colab": {
          "base_uri": "https://localhost:8080/"
        },
        "id": "KI2hegUnMaHy",
        "outputId": "0cd025b8-9d21-4bab-f632-61a984edad1a"
      },
      "outputs": [
        {
          "name": "stdout",
          "output_type": "stream",
          "text": [
            "8\n"
          ]
        }
      ],
      "source": [
        "print(a3.itemsize)"
      ]
    },
    {
      "cell_type": "code",
      "execution_count": 9,
      "metadata": {
        "colab": {
          "base_uri": "https://localhost:8080/"
        },
        "id": "sgTLu24PMlKC",
        "outputId": "c146ce08-eccb-42a1-888c-4a36a8948ada"
      },
      "outputs": [
        {
          "name": "stdout",
          "output_type": "stream",
          "text": [
            "int64\n"
          ]
        }
      ],
      "source": [
        "print(a.dtype) #returns the datatype of the items inside the entire array"
      ]
    },
    {
      "cell_type": "markdown",
      "metadata": {
        "id": "_pMx0Qi_NoIS"
      },
      "source": [
        "# changing data type\n"
      ]
    },
    {
      "cell_type": "code",
      "execution_count": 10,
      "metadata": {
        "colab": {
          "base_uri": "https://localhost:8080/"
        },
        "id": "e0FnEjx3M52Z",
        "outputId": "92b5674e-09d6-49b9-b7f8-df2775d11322"
      },
      "outputs": [
        {
          "data": {
            "text/plain": [
              "dtype('int8')"
            ]
          },
          "execution_count": 10,
          "metadata": {},
          "output_type": "execute_result"
        }
      ],
      "source": [
        "# astype\n",
        "a4 = a.astype(np.int8)\n",
        "a4.dtype\n",
        "#changes the datatype"
      ]
    },
    {
      "cell_type": "markdown",
      "metadata": {
        "id": "FDH0t92rPeq-"
      },
      "source": [
        "#Operations\n"
      ]
    },
    {
      "cell_type": "code",
      "execution_count": 11,
      "metadata": {
        "id": "hz5g-jo2Oq4M"
      },
      "outputs": [],
      "source": [
        "a1= np.arange(12).reshape(3,4)\n",
        "a3 = np.arange(12,24).reshape(3,4)"
      ]
    },
    {
      "cell_type": "code",
      "execution_count": 12,
      "metadata": {
        "colab": {
          "base_uri": "https://localhost:8080/"
        },
        "id": "_0Gh09cIP5Ae",
        "outputId": "cce61c4e-5456-46cf-8b9d-015137421595"
      },
      "outputs": [
        {
          "data": {
            "text/plain": [
              "array([[ 0,  3,  6,  9],\n",
              "       [12, 15, 18, 21],\n",
              "       [24, 27, 30, 33]])"
            ]
          },
          "execution_count": 12,
          "metadata": {},
          "output_type": "execute_result"
        }
      ],
      "source": [
        "#scalar operations\n",
        "\n",
        "a1 + 1\n",
        "a1 * 3\n",
        "#all arithmatic operations can be used"
      ]
    },
    {
      "cell_type": "code",
      "execution_count": 13,
      "metadata": {
        "colab": {
          "base_uri": "https://localhost:8080/"
        },
        "id": "_m80h76hQcVb",
        "outputId": "ca234885-fa4f-461a-e817-8c610631824c"
      },
      "outputs": [
        {
          "data": {
            "text/plain": [
              "array([[False, False, False, False],\n",
              "       [False, False,  True,  True],\n",
              "       [ True,  True,  True,  True]])"
            ]
          },
          "execution_count": 13,
          "metadata": {},
          "output_type": "execute_result"
        }
      ],
      "source": [
        "#relational\n",
        "\n",
        "a1 > 5"
      ]
    },
    {
      "cell_type": "code",
      "execution_count": 14,
      "metadata": {
        "colab": {
          "base_uri": "https://localhost:8080/"
        },
        "id": "hn9-sFykQz0y",
        "outputId": "69aa15c5-fe60-4248-ae1f-122b54993f86"
      },
      "outputs": [
        {
          "data": {
            "text/plain": [
              "array([[                   0,                    1,                16384,\n",
              "                    14348907],\n",
              "       [          4294967296,         762939453125,      101559956668416,\n",
              "           11398895185373143],\n",
              "       [ 1152921504606846976, -1261475310744950487,  1864712049423024128,\n",
              "         6839173302027254275]])"
            ]
          },
          "execution_count": 14,
          "metadata": {},
          "output_type": "execute_result"
        }
      ],
      "source": [
        "#vector operations\n",
        "a1 + a3\n",
        "a1 / a3\n",
        "a1 - a3\n",
        "a1 * a3\n",
        "a1 ** a3"
      ]
    },
    {
      "cell_type": "markdown",
      "metadata": {
        "id": "Gw9OfCasj705"
      },
      "source": [
        "# Array functions\n"
      ]
    },
    {
      "cell_type": "code",
      "execution_count": 15,
      "metadata": {
        "colab": {
          "base_uri": "https://localhost:8080/"
        },
        "id": "7TL6axI6Q31S",
        "outputId": "f0a66bc7-ff69-4f1b-c739-f1a4c0f46ad4"
      },
      "outputs": [
        {
          "name": "stdout",
          "output_type": "stream",
          "text": [
            "[[0.96509718 0.10129152 0.54986219]\n",
            " [0.74607819 0.62466192 0.03071759]\n",
            " [0.25242103 0.1207745  0.74305634]]\n",
            "[[97. 10. 55.]\n",
            " [75. 62.  3.]\n",
            " [25. 12. 74.]]\n"
          ]
        }
      ],
      "source": [
        "a1 = np.random.random((3,3))\n",
        "print(a1)\n",
        "a1 = np.round(a1*100)\n",
        "print(a1)"
      ]
    },
    {
      "cell_type": "code",
      "execution_count": 19,
      "metadata": {
        "colab": {
          "base_uri": "https://localhost:8080/"
        },
        "id": "B6_-sWKKSj37",
        "outputId": "190e52d1-61d3-4a36-a731-9fad048fa4be"
      },
      "outputs": [
        {
          "data": {
            "text/plain": [
              "array([97., 62., 74.])"
            ]
          },
          "execution_count": 19,
          "metadata": {},
          "output_type": "execute_result"
        }
      ],
      "source": [
        "# Max, Min , Sum, Prod\n",
        "\n",
        "np.min(a1)\n",
        "np.sum(a1)\n",
        "np.min(a1 , axis = 1)  # 0 = col 1=row\n",
        "np.max(a1 , axis = 0)"
      ]
    },
    {
      "cell_type": "code",
      "execution_count": 22,
      "metadata": {
        "colab": {
          "base_uri": "https://localhost:8080/"
        },
        "id": "wwxGJBe_kDxF",
        "outputId": "9bcec4d0-5c99-46df-8d22-bdf225cee946"
      },
      "outputs": [
        {
          "data": {
            "text/plain": [
              "32.15395066255275"
            ]
          },
          "execution_count": 22,
          "metadata": {},
          "output_type": "execute_result"
        }
      ],
      "source": [
        "#mean, median , standard deviation, Variance\n",
        "\n",
        "np.mean(a1)\n",
        "np.median(a1)\n",
        "np.var(a1)\n",
        "np.std(a1)"
      ]
    },
    {
      "cell_type": "markdown",
      "metadata": {
        "id": "z5h08_UPk-zo"
      },
      "source": [
        "# Trogo functions"
      ]
    },
    {
      "cell_type": "code",
      "execution_count": 23,
      "metadata": {
        "colab": {
          "base_uri": "https://localhost:8080/"
        },
        "id": "QRAyXLl3ks8m",
        "outputId": "9988ade5-3691-4b74-8fc6-791f1c590e44"
      },
      "outputs": [
        {
          "data": {
            "text/plain": [
              "array([[ 0.37960774, -0.54402111, -0.99975517],\n",
              "       [-0.38778164, -0.7391807 ,  0.14112001],\n",
              "       [-0.13235175, -0.53657292, -0.98514626]])"
            ]
          },
          "execution_count": 23,
          "metadata": {},
          "output_type": "execute_result"
        }
      ],
      "source": [
        "np.sin(a1)"
      ]
    },
    {
      "cell_type": "code",
      "execution_count": 25,
      "metadata": {
        "colab": {
          "base_uri": "https://localhost:8080/"
        },
        "id": "WWHitjI9lEMN",
        "outputId": "3323edee-4ebe-404c-a7c2-2aae657d6b11"
      },
      "outputs": [
        {
          "name": "stdout",
          "output_type": "stream",
          "text": [
            "[[114 120 126]\n",
            " [378 400 422]\n",
            " [642 680 718]]\n"
          ]
        }
      ],
      "source": [
        "# Dot product rules:\n",
        "# the dimension of column and the row should be same\n",
        "# the resultant would be the row and col\n",
        "\n",
        "a2 = np.arange(12).reshape(3,4)\n",
        "a3 = np.arange(12,24).reshape(4,3)\n",
        "print(np.dot(a2,a3))"
      ]
    },
    {
      "cell_type": "code",
      "execution_count": 27,
      "metadata": {
        "colab": {
          "base_uri": "https://localhost:8080/"
        },
        "id": "USPNiNQ_l7wS",
        "outputId": "b8b79967-3c3a-426e-c260-42b4e54f9989"
      },
      "outputs": [
        {
          "name": "stdout",
          "output_type": "stream",
          "text": [
            "[[4.57471098 2.30258509 4.00733319]\n",
            " [4.31748811 4.12713439 1.09861229]\n",
            " [3.21887582 2.48490665 4.30406509]]\n",
            "[[1.33833472e+42 2.20264658e+04 7.69478527e+23]\n",
            " [3.73324200e+32 8.43835667e+26 2.00855369e+01]\n",
            " [7.20048993e+10 1.62754791e+05 1.37338298e+32]]\n"
          ]
        }
      ],
      "source": [
        "#log and Exponents\n",
        "\n",
        "print(np.log(a1))\n",
        "print(np.exp(a1))\n"
      ]
    },
    {
      "cell_type": "code",
      "execution_count": null,
      "metadata": {
        "id": "_iQz7bdamZlt"
      },
      "outputs": [],
      "source": [
        "#round, floor, and ceil\n",
        "\n",
        "np.round(a1)\n",
        "#rest is self-explanatory"
      ]
    },
    {
      "cell_type": "code",
      "execution_count": 28,
      "metadata": {
        "id": "rcUVRoqAmvwv"
      },
      "outputs": [],
      "source": [
        "a1 = np.arange(10)\n",
        "a2 = np.arange(12).reshape(3,4)\n",
        "a3 = np.arange(8).reshape(2,2,2)"
      ]
    },
    {
      "cell_type": "markdown",
      "metadata": {
        "id": "ngepIwp0qFOO"
      },
      "source": [
        "# indexing & Slicing"
      ]
    },
    {
      "cell_type": "code",
      "execution_count": 29,
      "metadata": {
        "colab": {
          "base_uri": "https://localhost:8080/"
        },
        "id": "kZa3pltOn5FO",
        "outputId": "56cdbaa1-e78f-4933-826c-029f055059fc"
      },
      "outputs": [
        {
          "data": {
            "text/plain": [
              "array([[ 0,  1,  2,  3],\n",
              "       [ 4,  5,  6,  7],\n",
              "       [ 8,  9, 10, 11]])"
            ]
          },
          "execution_count": 29,
          "metadata": {},
          "output_type": "execute_result"
        }
      ],
      "source": [
        "a2"
      ]
    },
    {
      "cell_type": "code",
      "execution_count": 33,
      "metadata": {
        "colab": {
          "base_uri": "https://localhost:8080/"
        },
        "id": "WkUM-8hdoaDO",
        "outputId": "b6a608d0-4ad3-435f-c0c4-3a5f5b0ce037"
      },
      "outputs": [
        {
          "data": {
            "text/plain": [
              "6"
            ]
          },
          "execution_count": 33,
          "metadata": {},
          "output_type": "execute_result"
        }
      ],
      "source": [
        "a2[1,2] #first specify the row then col to get the number"
      ]
    },
    {
      "cell_type": "code",
      "execution_count": 34,
      "metadata": {
        "colab": {
          "base_uri": "https://localhost:8080/"
        },
        "id": "1MQXMvWLofk-",
        "outputId": "fa4afba1-5ca6-43b7-c25a-6a6777484acd"
      },
      "outputs": [
        {
          "data": {
            "text/plain": [
              "11"
            ]
          },
          "execution_count": 34,
          "metadata": {},
          "output_type": "execute_result"
        }
      ],
      "source": [
        "a2[2,-1]"
      ]
    },
    {
      "cell_type": "code",
      "execution_count": 36,
      "metadata": {
        "colab": {
          "base_uri": "https://localhost:8080/"
        },
        "id": "nTayuQsto1i-",
        "outputId": "d419156e-5079-49dc-bdd1-648016daf062"
      },
      "outputs": [
        {
          "data": {
            "text/plain": [
              "4"
            ]
          },
          "execution_count": 36,
          "metadata": {},
          "output_type": "execute_result"
        }
      ],
      "source": [
        "a2[1,0]"
      ]
    },
    {
      "cell_type": "code",
      "execution_count": 37,
      "metadata": {
        "colab": {
          "base_uri": "https://localhost:8080/"
        },
        "id": "OKmUfbxho7kG",
        "outputId": "82420c57-266e-48f0-a549-68988a1e1a87"
      },
      "outputs": [
        {
          "data": {
            "text/plain": [
              "array([[[0, 1],\n",
              "        [2, 3]],\n",
              "\n",
              "       [[4, 5],\n",
              "        [6, 7]]])"
            ]
          },
          "execution_count": 37,
          "metadata": {},
          "output_type": "execute_result"
        }
      ],
      "source": [
        "a3"
      ]
    },
    {
      "cell_type": "code",
      "execution_count": 39,
      "metadata": {
        "colab": {
          "base_uri": "https://localhost:8080/"
        },
        "id": "_W8vN9t_pA1-",
        "outputId": "c064e054-8836-4f08-fefa-545aeb948730"
      },
      "outputs": [
        {
          "data": {
            "text/plain": [
              "5"
            ]
          },
          "execution_count": 39,
          "metadata": {},
          "output_type": "execute_result"
        }
      ],
      "source": [
        "a3[1,0,-1] #first specify the matrix in this case it was 1\n",
        "#specify the row then col"
      ]
    },
    {
      "cell_type": "code",
      "execution_count": 40,
      "metadata": {
        "colab": {
          "base_uri": "https://localhost:8080/"
        },
        "id": "ZZhGeLOXpfGu",
        "outputId": "21fd24eb-43bf-45ee-e0d4-20e0c087a4dd"
      },
      "outputs": [
        {
          "data": {
            "text/plain": [
              "2"
            ]
          },
          "execution_count": 40,
          "metadata": {},
          "output_type": "execute_result"
        }
      ],
      "source": [
        "a3[0,1,0]"
      ]
    },
    {
      "cell_type": "code",
      "execution_count": 41,
      "metadata": {
        "colab": {
          "base_uri": "https://localhost:8080/"
        },
        "id": "3Kykktampx52",
        "outputId": "7fea9c3a-3b5c-4bd1-e41f-b2be10610520"
      },
      "outputs": [
        {
          "data": {
            "text/plain": [
              "0"
            ]
          },
          "execution_count": 41,
          "metadata": {},
          "output_type": "execute_result"
        }
      ],
      "source": [
        "a3[0,0,0]"
      ]
    },
    {
      "cell_type": "code",
      "execution_count": 42,
      "metadata": {
        "colab": {
          "base_uri": "https://localhost:8080/"
        },
        "id": "_lMmUHy_p2pO",
        "outputId": "bd83b50d-4812-4a74-b2b9-e89999633a63"
      },
      "outputs": [
        {
          "data": {
            "text/plain": [
              "6"
            ]
          },
          "execution_count": 42,
          "metadata": {},
          "output_type": "execute_result"
        }
      ],
      "source": [
        "a3[1,1,0]"
      ]
    },
    {
      "cell_type": "code",
      "execution_count": 48,
      "metadata": {
        "colab": {
          "base_uri": "https://localhost:8080/"
        },
        "id": "F0c2nyrOp-Tu",
        "outputId": "662d3c7f-b072-4ba5-b459-9fbc47dd33a7"
      },
      "outputs": [
        {
          "data": {
            "text/plain": [
              "array([[ 0,  1,  2,  3],\n",
              "       [ 4,  5,  6,  7],\n",
              "       [ 8,  9, 10, 11]])"
            ]
          },
          "execution_count": 48,
          "metadata": {},
          "output_type": "execute_result"
        }
      ],
      "source": [
        "#slicing\n",
        "a2"
      ]
    },
    {
      "cell_type": "code",
      "execution_count": 50,
      "metadata": {
        "colab": {
          "base_uri": "https://localhost:8080/"
        },
        "id": "6wRUbDC_qM_-",
        "outputId": "a33e4055-5e36-4219-91ab-39d9d0ebe545"
      },
      "outputs": [
        {
          "data": {
            "text/plain": [
              "array([[ 0,  1,  2,  3],\n",
              "       [ 4,  5,  6,  7],\n",
              "       [ 8,  9, 10, 11]])"
            ]
          },
          "execution_count": 50,
          "metadata": {},
          "output_type": "execute_result"
        }
      ],
      "source": [
        "a2[0:]"
      ]
    },
    {
      "cell_type": "code",
      "execution_count": 53,
      "metadata": {
        "colab": {
          "base_uri": "https://localhost:8080/"
        },
        "id": "ZbPUNTyyqbOG",
        "outputId": "1c846195-24aa-4130-d06f-80be8ffb72cd"
      },
      "outputs": [
        {
          "data": {
            "text/plain": [
              "array([0, 1, 2, 3])"
            ]
          },
          "execution_count": 53,
          "metadata": {},
          "output_type": "execute_result"
        }
      ],
      "source": [
        "a2[0,:] #specify the row first then column"
      ]
    },
    {
      "cell_type": "code",
      "execution_count": 54,
      "metadata": {
        "colab": {
          "base_uri": "https://localhost:8080/"
        },
        "id": "AsGcO0Y0qvcG",
        "outputId": "05157729-694d-4636-95eb-982cc5e2cf3b"
      },
      "outputs": [
        {
          "data": {
            "text/plain": [
              "array([ 2,  6, 10])"
            ]
          },
          "execution_count": 54,
          "metadata": {},
          "output_type": "execute_result"
        }
      ],
      "source": [
        "a2[:,2]"
      ]
    },
    {
      "cell_type": "code",
      "execution_count": 61,
      "metadata": {
        "colab": {
          "base_uri": "https://localhost:8080/"
        },
        "id": "_sGX5AjYrBkm",
        "outputId": "74a898f0-2bb5-4e10-a7ff-bffa9a238fdf"
      },
      "outputs": [
        {
          "data": {
            "text/plain": [
              "array([[ 5,  6],\n",
              "       [ 9, 10]])"
            ]
          },
          "execution_count": 61,
          "metadata": {},
          "output_type": "execute_result"
        }
      ],
      "source": [
        "a2[1:3,1:3]"
      ]
    },
    {
      "cell_type": "code",
      "execution_count": 66,
      "metadata": {
        "colab": {
          "base_uri": "https://localhost:8080/"
        },
        "id": "7VPl959arXse",
        "outputId": "ca28f2f4-8143-440d-a974-33e7da673e53"
      },
      "outputs": [
        {
          "data": {
            "text/plain": [
              "array([[ 0,  3],\n",
              "       [ 8, 11]])"
            ]
          },
          "execution_count": 66,
          "metadata": {},
          "output_type": "execute_result"
        }
      ],
      "source": [
        "# 03811\n",
        "a2[::2,::3]"
      ]
    },
    {
      "cell_type": "code",
      "execution_count": 74,
      "metadata": {
        "colab": {
          "base_uri": "https://localhost:8080/"
        },
        "id": "5SnRbCxasKJv",
        "outputId": "c8ef234a-2383-4801-a3eb-8cf475aee789"
      },
      "outputs": [
        {
          "data": {
            "text/plain": [
              "array([[ 1,  3],\n",
              "       [ 9, 11]])"
            ]
          },
          "execution_count": 74,
          "metadata": {},
          "output_type": "execute_result"
        }
      ],
      "source": [
        "#13911\n",
        "a2[::2, 1::2]"
      ]
    },
    {
      "cell_type": "code",
      "execution_count": 76,
      "metadata": {
        "colab": {
          "base_uri": "https://localhost:8080/"
        },
        "id": "b6m4ihdOssWP",
        "outputId": "db55f925-a82c-4d4f-eec4-55be81978f94"
      },
      "outputs": [
        {
          "data": {
            "text/plain": [
              "array([4, 7])"
            ]
          },
          "execution_count": 76,
          "metadata": {},
          "output_type": "execute_result"
        }
      ],
      "source": [
        "#47\n",
        "a2[1,0::3]"
      ]
    },
    {
      "cell_type": "code",
      "execution_count": 78,
      "metadata": {
        "colab": {
          "base_uri": "https://localhost:8080/"
        },
        "id": "gdjM-rAltgl2",
        "outputId": "9d308ae0-8116-479f-e6d6-c9e205b0efb1"
      },
      "outputs": [
        {
          "data": {
            "text/plain": [
              "array([[ 0,  1,  2,  3],\n",
              "       [ 4,  5,  6,  7],\n",
              "       [ 8,  9, 10, 11]])"
            ]
          },
          "execution_count": 78,
          "metadata": {},
          "output_type": "execute_result"
        }
      ],
      "source": [
        "a2[0:2, 1:]\n",
        "a2"
      ]
    },
    {
      "cell_type": "code",
      "execution_count": 89,
      "metadata": {
        "colab": {
          "base_uri": "https://localhost:8080/"
        },
        "id": "oMV-J-34tyKP",
        "outputId": "47bf3be3-0f94-45c3-9f76-1c2c7fa75625"
      },
      "outputs": [
        {
          "data": {
            "text/plain": [
              "array([[ 1,  3],\n",
              "       [ 9, 11]])"
            ]
          },
          "execution_count": 89,
          "metadata": {},
          "output_type": "execute_result"
        }
      ],
      "source": [
        "#13911\n",
        "a2[::2, 1::2]"
      ]
    },
    {
      "cell_type": "code",
      "execution_count": 96,
      "metadata": {
        "colab": {
          "base_uri": "https://localhost:8080/"
        },
        "id": "JkQqhlrhuFH3",
        "outputId": "f393daa2-d38a-4673-9097-ac9270e6840c"
      },
      "outputs": [
        {
          "name": "stdout",
          "output_type": "stream",
          "text": [
            "[[[ 0  1  2]\n",
            "  [ 3  4  5]\n",
            "  [ 6  7  8]]\n",
            "\n",
            " [[ 9 10 11]\n",
            "  [12 13 14]\n",
            "  [15 16 17]]\n",
            "\n",
            " [[18 19 20]\n",
            "  [21 22 23]\n",
            "  [24 25 26]]]\n"
          ]
        }
      ],
      "source": [
        "#for 3d\n",
        "\n",
        "a4 = np.arange(27).reshape(3,3,3)\n",
        "print(a4)"
      ]
    },
    {
      "cell_type": "code",
      "execution_count": 98,
      "metadata": {
        "colab": {
          "base_uri": "https://localhost:8080/"
        },
        "id": "eA55OwQLurGP",
        "outputId": "29236fac-6b3f-4e5b-d76b-e98deb48e9de"
      },
      "outputs": [
        {
          "data": {
            "text/plain": [
              "array([[[ 0,  1,  2],\n",
              "        [ 3,  4,  5],\n",
              "        [ 6,  7,  8]],\n",
              "\n",
              "       [[18, 19, 20],\n",
              "        [21, 22, 23],\n",
              "        [24, 25, 26]]])"
            ]
          },
          "execution_count": 98,
          "metadata": {},
          "output_type": "execute_result"
        }
      ],
      "source": [
        "a4[::2]"
      ]
    },
    {
      "cell_type": "code",
      "execution_count": 100,
      "metadata": {
        "colab": {
          "base_uri": "https://localhost:8080/"
        },
        "id": "8CCnPWEPu0A_",
        "outputId": "62ea512a-2d07-4731-99df-3c127f7a9cb8"
      },
      "outputs": [
        {
          "data": {
            "text/plain": [
              "array([[3, 4, 5]])"
            ]
          },
          "execution_count": 100,
          "metadata": {},
          "output_type": "execute_result"
        }
      ],
      "source": [
        "a4[0,1:2]"
      ]
    },
    {
      "cell_type": "code",
      "execution_count": 101,
      "metadata": {
        "colab": {
          "base_uri": "https://localhost:8080/"
        },
        "id": "C7IfFdcxvVhf",
        "outputId": "fa51f86a-e6c6-499f-bcba-a794e1db5c6a"
      },
      "outputs": [
        {
          "data": {
            "text/plain": [
              "array([10, 13, 16])"
            ]
          },
          "execution_count": 101,
          "metadata": {},
          "output_type": "execute_result"
        }
      ],
      "source": [
        "a4[1,:,1]"
      ]
    },
    {
      "cell_type": "code",
      "execution_count": 105,
      "metadata": {
        "colab": {
          "base_uri": "https://localhost:8080/"
        },
        "id": "M1K9JLb0vgE4",
        "outputId": "8f9c070c-540b-42e3-d0ff-3d98a6618fa6"
      },
      "outputs": [
        {
          "data": {
            "text/plain": [
              "array([[22, 23],\n",
              "       [25, 26]])"
            ]
          },
          "execution_count": 105,
          "metadata": {},
          "output_type": "execute_result"
        }
      ],
      "source": [
        "a4[-1 , 1:,1:]"
      ]
    },
    {
      "cell_type": "code",
      "execution_count": 108,
      "metadata": {
        "colab": {
          "base_uri": "https://localhost:8080/"
        },
        "id": "7glTK2Zbvq4G",
        "outputId": "005d2e4e-fca2-4da5-b444-50a4bf8ad8f3"
      },
      "outputs": [
        {
          "data": {
            "text/plain": [
              "array([[ 0,  2],\n",
              "       [18, 20]])"
            ]
          },
          "execution_count": 108,
          "metadata": {},
          "output_type": "execute_result"
        }
      ],
      "source": [
        "#021820\n",
        "a4[::2,0, ::2]"
      ]
    },
    {
      "cell_type": "code",
      "execution_count": 112,
      "metadata": {
        "colab": {
          "base_uri": "https://localhost:8080/"
        },
        "id": "5BwrVvQQwPSo",
        "outputId": "5f1c5893-fa89-4a64-aa41-a170a06ce1a5"
      },
      "outputs": [
        {
          "data": {
            "text/plain": [
              "array([[ 6,  8],\n",
              "       [24, 26]])"
            ]
          },
          "execution_count": 112,
          "metadata": {},
          "output_type": "execute_result"
        }
      ],
      "source": [
        "#68 2426\n",
        "a4[::2,-1 ,::2 ]"
      ]
    },
    {
      "cell_type": "markdown",
      "metadata": {
        "id": "LVdP63BhxaBh"
      },
      "source": [
        "# Iteration"
      ]
    },
    {
      "cell_type": "code",
      "execution_count": 114,
      "metadata": {
        "colab": {
          "base_uri": "https://localhost:8080/"
        },
        "id": "YqpVo6SrxCR4",
        "outputId": "de1119f6-b9c9-45f9-900c-ebb76b0e5ef3"
      },
      "outputs": [
        {
          "name": "stdout",
          "output_type": "stream",
          "text": [
            "0\n",
            "1\n",
            "2\n",
            "3\n",
            "4\n",
            "5\n",
            "6\n",
            "7\n",
            "8\n",
            "9\n",
            "10\n",
            "11\n",
            "12\n",
            "13\n",
            "14\n",
            "15\n",
            "16\n",
            "17\n",
            "18\n",
            "19\n",
            "20\n",
            "21\n",
            "22\n",
            "23\n",
            "24\n",
            "25\n",
            "26\n"
          ]
        }
      ],
      "source": [
        "for i in np.nditer(a4):\n",
        "  print(i)\n",
        "#flatterns the array of any dim into 1d then loops over it"
      ]
    },
    {
      "cell_type": "code",
      "execution_count": 119,
      "metadata": {
        "colab": {
          "base_uri": "https://localhost:8080/"
        },
        "id": "B4oZB4_qxCxP",
        "outputId": "0b1daa6d-0fac-48bd-9b91-2a3615fe351d"
      },
      "outputs": [
        {
          "data": {
            "text/plain": [
              "array([ 0,  1,  2,  3,  4,  5,  6,  7,  8,  9, 10, 11])"
            ]
          },
          "execution_count": 119,
          "metadata": {},
          "output_type": "execute_result"
        }
      ],
      "source": [
        "# reshape & ravel\n",
        "\n",
        "a2.T #or np.transpose(a2)\n",
        "\n",
        "#ravel\n",
        "\n",
        "a2.ravel() # flatterns the given array"
      ]
    },
    {
      "cell_type": "code",
      "execution_count": null,
      "metadata": {
        "id": "ZXDZ4O_PyZdf"
      },
      "outputs": [],
      "source": []
    }
  ],
  "metadata": {
    "colab": {
      "provenance": []
    },
    "kernelspec": {
      "display_name": "Python 3",
      "name": "python3"
    },
    "language_info": {
      "name": "python"
    }
  },
  "nbformat": 4,
  "nbformat_minor": 0
}
