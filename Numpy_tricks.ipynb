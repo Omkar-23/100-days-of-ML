{
  "nbformat": 4,
  "nbformat_minor": 0,
  "metadata": {
    "colab": {
      "provenance": [],
      "authorship_tag": "ABX9TyPobb3Qc5m8tophmy2p3Axy",
      "include_colab_link": true
    },
    "kernelspec": {
      "name": "python3",
      "display_name": "Python 3"
    },
    "language_info": {
      "name": "python"
    }
  },
  "cells": [
    {
      "cell_type": "markdown",
      "metadata": {
        "id": "view-in-github",
        "colab_type": "text"
      },
      "source": [
        "<a href=\"https://colab.research.google.com/github/Omkar-23/100-days-of-ML/blob/main/Numpy_tricks.ipynb\" target=\"_parent\"><img src=\"https://colab.research.google.com/assets/colab-badge.svg\" alt=\"Open In Colab\"/></a>"
      ]
    },
    {
      "cell_type": "code",
      "execution_count": 1,
      "metadata": {
        "id": "KTTumcGL_aMc"
      },
      "outputs": [],
      "source": [
        "import numpy as np"
      ]
    },
    {
      "cell_type": "code",
      "source": [
        "#sorting\n",
        "#returns numpy array\n",
        "a = np.random.randint(1,100,15)\n",
        "print(a)\n",
        "np.sort(a)\n",
        "print(a)"
      ],
      "metadata": {
        "colab": {
          "base_uri": "https://localhost:8080/"
        },
        "id": "ppeCD1cr_oD0",
        "outputId": "47d137c2-f1df-488b-fed7-a4efe5b4da38"
      },
      "execution_count": 4,
      "outputs": [
        {
          "output_type": "stream",
          "name": "stdout",
          "text": [
            "[56 99 52 27  4 53  5 22 61 15 58 54 14 10 70]\n",
            "[56 99 52 27  4 53  5 22 61 15 58 54 14 10 70]\n"
          ]
        }
      ]
    },
    {
      "cell_type": "code",
      "source": [
        "a1 = np.random.randint(1,100,12).reshape(4,3)\n",
        "\n",
        "np.sort(a1, axis= 0) #sort wrt to row or col, 0= col , 1 = row\n",
        "np.sort(a1)[::-1]   #::-1 sorts the array in reverse order\n",
        "# kind param specifies the method of sort"
      ],
      "metadata": {
        "colab": {
          "base_uri": "https://localhost:8080/"
        },
        "id": "U-D77Pmc_zST",
        "outputId": "b1872848-0eb5-40c1-f962-a664281727a1"
      },
      "execution_count": 6,
      "outputs": [
        {
          "output_type": "execute_result",
          "data": {
            "text/plain": [
              "array([[17, 37, 84],\n",
              "       [15, 39, 85],\n",
              "       [25, 36, 62],\n",
              "       [27, 43, 66]])"
            ]
          },
          "metadata": {},
          "execution_count": 6
        }
      ]
    },
    {
      "cell_type": "code",
      "source": [
        "#Append\n",
        "np.append(a,200)"
      ],
      "metadata": {
        "colab": {
          "base_uri": "https://localhost:8080/"
        },
        "id": "pU-3tKo2ATp1",
        "outputId": "43e3b00a-11b2-48c0-99ca-5fb94ca964a9"
      },
      "execution_count": 7,
      "outputs": [
        {
          "output_type": "execute_result",
          "data": {
            "text/plain": [
              "array([ 56,  99,  52,  27,   4,  53,   5,  22,  61,  15,  58,  54,  14,\n",
              "        10,  70, 200])"
            ]
          },
          "metadata": {},
          "execution_count": 7
        }
      ]
    },
    {
      "cell_type": "code",
      "source": [
        "np.append(a1,np.ones((a1.shape[0],1)), axis=1)"
      ],
      "metadata": {
        "colab": {
          "base_uri": "https://localhost:8080/"
        },
        "id": "qQcoDIk9Ba9V",
        "outputId": "0c74dcd4-0286-4294-d4d2-bd356e5b5fd4"
      },
      "execution_count": 12,
      "outputs": [
        {
          "output_type": "execute_result",
          "data": {
            "text/plain": [
              "array([[43., 27., 66.,  1.],\n",
              "       [25., 36., 62.,  1.],\n",
              "       [15., 85., 39.,  1.],\n",
              "       [37., 17., 84.,  1.]])"
            ]
          },
          "metadata": {},
          "execution_count": 12
        }
      ]
    },
    {
      "cell_type": "code",
      "source": [
        "#concat\n",
        "b = np.arange(6).reshape(2,3)\n",
        "c = np.arange(6,12).reshape(2,3)\n",
        "\n",
        "np.concatenate((b,c),axis = 0 )\n",
        "np.concatenate((b,c),axis = 1 )"
      ],
      "metadata": {
        "colab": {
          "base_uri": "https://localhost:8080/"
        },
        "id": "CZbfCMr4Bsub",
        "outputId": "c6b83b88-5afe-4faa-f722-46ddd640b25b"
      },
      "execution_count": 13,
      "outputs": [
        {
          "output_type": "execute_result",
          "data": {
            "text/plain": [
              "array([[ 0,  1,  2,  6,  7,  8],\n",
              "       [ 3,  4,  5,  9, 10, 11]])"
            ]
          },
          "metadata": {},
          "execution_count": 13
        }
      ]
    },
    {
      "cell_type": "code",
      "source": [
        "#unique\n",
        "u = np.array([1,1,1,1,1,0,0,0])\n",
        "np.unique(u)"
      ],
      "metadata": {
        "colab": {
          "base_uri": "https://localhost:8080/"
        },
        "id": "r70Ey-1bDRNg",
        "outputId": "82b79885-a19c-480c-eec4-93dcc0db0b16"
      },
      "execution_count": 14,
      "outputs": [
        {
          "output_type": "execute_result",
          "data": {
            "text/plain": [
              "array([0, 1])"
            ]
          },
          "metadata": {},
          "execution_count": 14
        }
      ]
    },
    {
      "cell_type": "code",
      "source": [
        "#expand dimensions\n",
        "#np.expand_diims\n",
        "\n",
        "np.expand_dims(a,axis = 1).shape\n"
      ],
      "metadata": {
        "colab": {
          "base_uri": "https://localhost:8080/"
        },
        "id": "I4Zxcqu9Dc3c",
        "outputId": "10043c9c-0345-45c6-db83-dba4f724c4f3"
      },
      "execution_count": 24,
      "outputs": [
        {
          "output_type": "execute_result",
          "data": {
            "text/plain": [
              "(15, 1)"
            ]
          },
          "metadata": {},
          "execution_count": 24
        }
      ]
    },
    {
      "cell_type": "code",
      "source": [
        "#np.where\n",
        "#returns the index of the elements\n",
        "\n",
        "np.where(a<50)"
      ],
      "metadata": {
        "colab": {
          "base_uri": "https://localhost:8080/"
        },
        "id": "BMrCT-lXD5eN",
        "outputId": "376d9640-3a48-4e49-9775-4dc2cc3ac25f"
      },
      "execution_count": 27,
      "outputs": [
        {
          "output_type": "execute_result",
          "data": {
            "text/plain": [
              "(array([ 3,  4,  6,  7,  9, 12, 13]),)"
            ]
          },
          "metadata": {},
          "execution_count": 27
        }
      ]
    },
    {
      "cell_type": "code",
      "source": [
        "np.where(a<50, 0,a)\n",
        "#np.where(condition,what to do when it's true,false)"
      ],
      "metadata": {
        "colab": {
          "base_uri": "https://localhost:8080/"
        },
        "id": "LcLARpF4E03V",
        "outputId": "dc5dc0f0-3eba-4804-c9e5-8e7957a29ce5"
      },
      "execution_count": 28,
      "outputs": [
        {
          "output_type": "execute_result",
          "data": {
            "text/plain": [
              "array([56, 99, 52,  0,  0, 53,  0,  0, 61,  0, 58, 54,  0,  0, 70])"
            ]
          },
          "metadata": {},
          "execution_count": 28
        }
      ]
    },
    {
      "cell_type": "code",
      "source": [
        "#argmax  Returns the index of max element of a particular axis\n",
        "np.argmax(a)\n",
        "np.argmax(b,axis=1)"
      ],
      "metadata": {
        "colab": {
          "base_uri": "https://localhost:8080/"
        },
        "id": "Q18SIp6zFLGz",
        "outputId": "7ddcf224-87eb-4354-c996-fc84d22f628c"
      },
      "execution_count": 30,
      "outputs": [
        {
          "output_type": "execute_result",
          "data": {
            "text/plain": [
              "5"
            ]
          },
          "metadata": {},
          "execution_count": 30
        }
      ]
    },
    {
      "cell_type": "code",
      "source": [
        "#argmin\n",
        "np.argmin(a)"
      ],
      "metadata": {
        "colab": {
          "base_uri": "https://localhost:8080/"
        },
        "id": "_TiQqjefFous",
        "outputId": "928eb2e3-a3e3-433a-ba4a-6276861854a8"
      },
      "execution_count": 31,
      "outputs": [
        {
          "output_type": "execute_result",
          "data": {
            "text/plain": [
              "4"
            ]
          },
          "metadata": {},
          "execution_count": 31
        }
      ]
    },
    {
      "cell_type": "code",
      "source": [
        "#np.cumsum computes the cumulative sum of the array elements\n",
        "np.cumsum(a)\n",
        "np.cumsum(b)"
      ],
      "metadata": {
        "colab": {
          "base_uri": "https://localhost:8080/"
        },
        "id": "iJ42gpNhGEqk",
        "outputId": "20b7f2ca-b583-4649-ab6d-5cf295f0d84e"
      },
      "execution_count": 33,
      "outputs": [
        {
          "output_type": "execute_result",
          "data": {
            "text/plain": [
              "array([ 0,  1,  3,  6, 10, 15])"
            ]
          },
          "metadata": {},
          "execution_count": 33
        }
      ]
    },
    {
      "cell_type": "code",
      "source": [
        "np.cumprod(a) #returns product"
      ],
      "metadata": {
        "colab": {
          "base_uri": "https://localhost:8080/"
        },
        "id": "-t0N766CHNiG",
        "outputId": "db7ffe63-513c-45de-edd9-a5e894e1c8c8"
      },
      "execution_count": 34,
      "outputs": [
        {
          "output_type": "execute_result",
          "data": {
            "text/plain": [
              "array([                 56,                5544,              288288,\n",
              "                   7783776,            31135104,          1650160512,\n",
              "                8250802560,        181517656320,      11072577035520,\n",
              "           166088655532800,    9633142020902400,  520189669128729600,\n",
              "       7282655367802214400, -960422616816062464, 6557393117713833984])"
            ]
          },
          "metadata": {},
          "execution_count": 34
        }
      ]
    },
    {
      "cell_type": "code",
      "source": [
        "#percentile p = (n/N)*200   N = count of population"
      ],
      "metadata": {
        "colab": {
          "base_uri": "https://localhost:8080/"
        },
        "id": "JOClRLtZHpzM",
        "outputId": "be3138ad-5912-4b96-f8ec-6ce3754e8729"
      },
      "execution_count": 38,
      "outputs": [
        {
          "output_type": "execute_result",
          "data": {
            "text/plain": [
              "53.4"
            ]
          },
          "metadata": {},
          "execution_count": 38
        }
      ]
    },
    {
      "cell_type": "code",
      "source": [
        "#Histogram\n",
        "np.histogram(a,bins = [0,10,40,90])\n"
      ],
      "metadata": {
        "colab": {
          "base_uri": "https://localhost:8080/"
        },
        "id": "Y9hFT54NH82U",
        "outputId": "ab6b9f85-2887-4378-a94f-6243ac576db0"
      },
      "execution_count": 40,
      "outputs": [
        {
          "output_type": "execute_result",
          "data": {
            "text/plain": [
              "(array([2, 5, 7]), array([ 0, 10, 40, 90]))"
            ]
          },
          "metadata": {},
          "execution_count": 40
        }
      ]
    },
    {
      "cell_type": "code",
      "source": [
        "#corrcoef\n",
        "np.corrcoef(a,b) # corcoef for 2 or more arrays"
      ],
      "metadata": {
        "id": "cGYZ2_FVI1OE"
      },
      "execution_count": null,
      "outputs": []
    },
    {
      "cell_type": "code",
      "source": [
        "#isin searches the presence of multiple elements within an array\n",
        "items = [1,2,3,4,59,69,99]\n",
        "print(a)\n",
        "np.isin(a,items)\n"
      ],
      "metadata": {
        "colab": {
          "base_uri": "https://localhost:8080/"
        },
        "id": "FcM06FhAJi8l",
        "outputId": "7b3af56c-d74a-4f82-8f7f-dbe5db3ef6ea"
      },
      "execution_count": 43,
      "outputs": [
        {
          "output_type": "stream",
          "name": "stdout",
          "text": [
            "[56 99 52 27  4 53  5 22 61 15 58 54 14 10 70]\n"
          ]
        },
        {
          "output_type": "execute_result",
          "data": {
            "text/plain": [
              "array([False,  True, False, False,  True, False, False, False, False,\n",
              "       False, False, False, False, False, False])"
            ]
          },
          "metadata": {},
          "execution_count": 43
        }
      ]
    },
    {
      "cell_type": "code",
      "source": [
        "#flip reverses the order of array elements along the specified axis\n",
        "print(a)\n",
        "np.flip(a)\n"
      ],
      "metadata": {
        "colab": {
          "base_uri": "https://localhost:8080/"
        },
        "id": "LHnxrhXhKQNO",
        "outputId": "e8de82fb-3eb2-47ae-e5d1-9f986dfd2d8e"
      },
      "execution_count": 45,
      "outputs": [
        {
          "output_type": "stream",
          "name": "stdout",
          "text": [
            "[56 99 52 27  4 53  5 22 61 15 58 54 14 10 70]\n"
          ]
        },
        {
          "output_type": "execute_result",
          "data": {
            "text/plain": [
              "array([70, 10, 14, 54, 58, 15, 61, 22,  5, 53,  4, 27, 52, 99, 56])"
            ]
          },
          "metadata": {},
          "execution_count": 45
        }
      ]
    },
    {
      "cell_type": "code",
      "source": [
        "print(c)\n",
        "np.flip(c)\n",
        "np.flip(c , axis = 0)\n",
        "np.flip(c , axis = 1)"
      ],
      "metadata": {
        "colab": {
          "base_uri": "https://localhost:8080/"
        },
        "id": "tmYz5RTaKeF7",
        "outputId": "d6632136-4cfd-4594-9b05-d0f4fb23783d"
      },
      "execution_count": 48,
      "outputs": [
        {
          "output_type": "stream",
          "name": "stdout",
          "text": [
            "[[ 6  7  8]\n",
            " [ 9 10 11]]\n"
          ]
        },
        {
          "output_type": "execute_result",
          "data": {
            "text/plain": [
              "array([[ 8,  7,  6],\n",
              "       [11, 10,  9]])"
            ]
          },
          "metadata": {},
          "execution_count": 48
        }
      ]
    },
    {
      "cell_type": "code",
      "source": [
        "#np.put replaces the specific elements of an array\n",
        "print(a)\n",
        "np.put(a,[0,1], [3,22])"
      ],
      "metadata": {
        "colab": {
          "base_uri": "https://localhost:8080/"
        },
        "id": "ahpLljhuKoSK",
        "outputId": "6dd8301e-fed7-44f1-ec44-74015e36ee6f"
      },
      "execution_count": 57,
      "outputs": [
        {
          "output_type": "stream",
          "name": "stdout",
          "text": [
            "[56 99 52 27  4 53  5 22 61 15 58 54 14 10 70]\n"
          ]
        }
      ]
    },
    {
      "cell_type": "code",
      "source": [
        "#delete\n",
        "np.delete(a,0)"
      ],
      "metadata": {
        "colab": {
          "base_uri": "https://localhost:8080/"
        },
        "id": "atbesbsRLBHW",
        "outputId": "46cd100a-b407-4470-c510-9258965992f5"
      },
      "execution_count": 59,
      "outputs": [
        {
          "output_type": "execute_result",
          "data": {
            "text/plain": [
              "array([22, 52, 27,  4, 53,  5, 22, 61, 15, 58, 54, 14, 10, 70])"
            ]
          },
          "metadata": {},
          "execution_count": 59
        }
      ]
    },
    {
      "cell_type": "code",
      "source": [
        "print(a)\n",
        "a = np.delete(a,[0,1,2])\n",
        "print(a)"
      ],
      "metadata": {
        "colab": {
          "base_uri": "https://localhost:8080/"
        },
        "id": "Ay04LbKDLl-V",
        "outputId": "2a9bb18d-ae64-43be-d94e-6f2c36653a38"
      },
      "execution_count": 64,
      "outputs": [
        {
          "output_type": "stream",
          "name": "stdout",
          "text": [
            "[ 3 22 52 27  4 53  5 22 61 15 58 54 14 10 70]\n",
            "[27  4 53  5 22 61 15 58 54 14 10 70]\n"
          ]
        }
      ]
    },
    {
      "cell_type": "code",
      "source": [
        "#set functions\n",
        "m = np.array([1,2,3,4,5])\n",
        "n = np.array([5,6,7,8,1])\n",
        "\n",
        "np.union1d(m,n)\n",
        "np.intersect1d(m,n)\n",
        "np.setdiff1d(m,n)\n",
        "np.setxor1d(m,n)\n",
        "np.in1d(m,1)"
      ],
      "metadata": {
        "colab": {
          "base_uri": "https://localhost:8080/"
        },
        "id": "BQFv4KnWMJzN",
        "outputId": "a8ffa0de-ee02-44b8-f840-17df95860ba8"
      },
      "execution_count": 66,
      "outputs": [
        {
          "output_type": "execute_result",
          "data": {
            "text/plain": [
              "array([ True, False, False, False, False])"
            ]
          },
          "metadata": {},
          "execution_count": 66
        }
      ]
    },
    {
      "cell_type": "code",
      "source": [
        "#clip clips the array within a certain range\n",
        "a\n",
        "np.clip(a, a_min=22 , a_max = 54)"
      ],
      "metadata": {
        "colab": {
          "base_uri": "https://localhost:8080/"
        },
        "id": "5HWnBrr8Ot82",
        "outputId": "21d33159-5176-45fc-e92a-9ee8d75794b8"
      },
      "execution_count": 68,
      "outputs": [
        {
          "output_type": "execute_result",
          "data": {
            "text/plain": [
              "array([27, 22, 53, 22, 22, 54, 22, 54, 54, 22, 22, 54])"
            ]
          },
          "metadata": {},
          "execution_count": 68
        }
      ]
    },
    {
      "cell_type": "code",
      "source": [],
      "metadata": {
        "id": "VvqUbNwtPTim"
      },
      "execution_count": null,
      "outputs": []
    }
  ]
}